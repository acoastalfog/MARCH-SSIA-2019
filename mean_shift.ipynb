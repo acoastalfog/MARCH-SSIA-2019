{
 "cells": [
  {
   "cell_type": "markdown",
   "metadata": {},
   "source": [
    "Begin by importing SimpleITK and creating an ImageSeriesReader. We will use this SimpleITK function to get a series of DICOM images and select from them which to use during our clustering segmentation pipeline."
   ]
  },
  {
   "cell_type": "code",
   "execution_count": null,
   "metadata": {},
   "outputs": [],
   "source": [
    "import SimpleITK as sitk\n",
    "\n",
    "reader = sitk.ImageSeriesReader()\n",
    "seriesIDs = reader.GetGDCMSeriesIDs(\"DICOM\")\n",
    "numSeries = len(seriesIDs)\n",
    "\n",
    "dicomSeriesID = 0\n",
    "dicomNames = reader.GetGDCMSeriesFileNames(\"DICOM\", seriesIDs[dicomSeriesID])\n",
    "reader.SetFileNames(dicomNames)\n",
    "try:\n",
    "    image = reader.Execute()\n",
    "except RunTimeError:\n",
    "    print (\"--> Something went wrong reading DICOM names!\")\n",
    "    "
   ]
  },
  {
   "cell_type": "markdown",
   "metadata": {},
   "source": [
    "Write out a more convenient format for research, namely, the compressed NIFTI."
   ]
  },
  {
   "cell_type": "code",
   "execution_count": null,
   "metadata": {},
   "outputs": [],
   "source": [
    "sitk.WriteImage(image, \"DICOM.nii.gz\")"
   ]
  },
  {
   "cell_type": "markdown",
   "metadata": {},
   "source": [
    "We can use this later if we just want to start with the DICOM data but in our compressed NIFTI format. NIFTI also has the advantage of being naturally de-identified, however, the DICOM data I have given you in this tutorial is already de-identified for obvious reasons.\n",
    "\n",
    "Now we do some simple conversion. First, we will apply a total variation denoising procedure to the images, which is available in the skimage package, which removes some random noise. In this case we are also grabbing the numpy array representation of the imageSecondly, we scale the data and convert it to 8 bit in preparation for using our pymeanshift library, which works only with 8 bit image data."
   ]
  },
  {
   "cell_type": "code",
   "execution_count": null,
   "metadata": {},
   "outputs": [],
   "source": [
    "from skimage.restoration import denoise_tv_chambolle\n",
    "import cv2\n",
    "import numpy as np\n",
    "\n",
    "numpyImage = denoise_tv_chambolle(sitk.GetArrayFromImage(image), weight=0.001)\n",
    "\n",
    "alpha = 255.0 / np.amax(numpyImage)\n",
    "beta = np.amin(numpyImage)\n",
    "\n",
    "numpyImage = cv2.convertScaleAbs(numpyImage, alpha=alpha, beta=beta)"
   ]
  },
  {
   "cell_type": "markdown",
   "metadata": {},
   "source": [
    "For the purposes of this demonstration our goal is to perform the mean shift segmentation on a single axial slide of the MRI which contains a significant amount of tumor. In this demo I have pre-configured the axial slide value corresponding to this 2D slice of the image, however, one could imagine a straightforward 3D version of this code (but beware! this is computationally expensive!) or an interactive image picker writtein in, for example, matplotlib."
   ]
  },
  {
   "cell_type": "code",
   "execution_count": null,
   "metadata": {},
   "outputs": [],
   "source": [
    "imageSlice = 45\n",
    "myImage = numpyImage[imageSlice]\n",
    "myImage.shape"
   ]
  },
  {
   "cell_type": "markdown",
   "metadata": {},
   "source": [
    "Let's take a look at our image."
   ]
  },
  {
   "cell_type": "code",
   "execution_count": null,
   "metadata": {},
   "outputs": [],
   "source": [
    "%matplotlib inline\n",
    "import matplotlib.pyplot as plt\n",
    "import matplotlib.image as mpimg\n",
    "\n",
    "imgplot = plt.imshow(myImage, cmap='gray')"
   ]
  },
  {
   "cell_type": "markdown",
   "metadata": {},
   "source": [
    "Two significant configurable options exist within the construction of the mean shift segmenter. The first is the spatial radius. This is the radius around each seed point which will be considered for the centroid calculation. The second is the range radius, which is defined as the range in the image density that will be considered to be part of the centroid calculation at each iteration and for each seed point. Lastly, there is a minimum density set so that no pixels below a certain threshold are considered in the calculation. This has the effect of removing the background. I have pre-populated some values for you here, however, feel free to play around with this."
   ]
  },
  {
   "cell_type": "code",
   "execution_count": null,
   "metadata": {},
   "outputs": [],
   "source": [
    "spatialRadius = 2\n",
    "rangeRadius = 5\n",
    "minDensity = 100\n",
    "\n",
    "import pymeanshift as pms\n",
    "from PIL import Image\n",
    "\n",
    "mySegmenter = pms.Segmenter()\n",
    "mySegmenter.min_density = minDensity\n",
    "mySegmenter.spatial_radius = spatialRadius\n",
    "mySegmenter.range_radius = rangeRadius\n",
    "\n",
    "segmentedImage, labelImage, numRegions = mySegmenter(myImage)\n",
    "print (\"--> Generated\", numRegions, \"regions\")\n",
    "print (\"--> Label of the intratumoral region appears to be\", labelImage[100][150])\n",
    "tumorLabelIndex = labelImage[100][150]\n",
    "imgplot = plt.imshow(labelImage, cmap='gray')"
   ]
  },
  {
   "cell_type": "markdown",
   "metadata": {},
   "source": [
    "Now that we have successful segmented our tumor, let's go ahead and generate a simple mask on the image which is 1 in the tumor and 0 everywhere else. When can perhaps most simply do this by reshaping the image into a one-dimensional array and then simply converting it back. "
   ]
  },
  {
   "cell_type": "code",
   "execution_count": null,
   "metadata": {},
   "outputs": [],
   "source": [
    "imageShape = labelImage.shape\n",
    "myLabelImage = np.ravel(labelImage)\n",
    "myLabelImageSegmentation = np.zeros(myLabelImage.shape)\n",
    "\n",
    "for i in range(0, len(myLabelImage)):\n",
    "    if myLabelImage[i] == tumorLabelIndex:\n",
    "        myLabelImageSegmentation[i] = 1\n",
    "        \n",
    "myLabelImageSegmentation = np.reshape(myLabelImageSegmentation, (-1, imageShape[1]))\n",
    "imgplot = plt.imshow(myLabelImageSegmentation, cmap='gray')"
   ]
  },
  {
   "cell_type": "markdown",
   "metadata": {},
   "source": [
    "Congratulations on your segmented tumor! Now, just do this in 3D, or find a way to concatenate the results between successive mean-shift segmentation in each relevant axial slice along the tumor itself."
   ]
  }
 ],
 "metadata": {
  "kernelspec": {
   "display_name": "Python 3",
   "language": "python",
   "name": "python3"
  },
  "language_info": {
   "codemirror_mode": {
    "name": "ipython",
    "version": 3
   },
   "file_extension": ".py",
   "mimetype": "text/x-python",
   "name": "python",
   "nbconvert_exporter": "python",
   "pygments_lexer": "ipython3",
   "version": "3.7.3"
  }
 },
 "nbformat": 4,
 "nbformat_minor": 4
}
