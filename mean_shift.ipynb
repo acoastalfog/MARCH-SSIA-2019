{
 "cells": [
  {
   "cell_type": "code",
   "execution_count": null,
   "metadata": {},
   "outputs": [],
   "source": [
    "import math\n",
    "import numpy as np\n",
    "import matplotlib.pyplot as plt\n",
    "import matplotlib.pylab as pylab\n",
    "import matplotlib.image as mpimg\n",
    "from sklearn.cluster import MeanShift, estimate_bandwidth\n",
    "from sklearn.datasets import make_blobs\n",
    "from PIL import Image\n",
    "from itertools import cycle\n",
    "%matplotlib inline\n",
    "pylab.rcParams['figure.figsize'] = 16, 12\n",
    "%matplotlib inline\n",
    "pylab.rcParams['figure.figsize'] = 16, 12"
   ]
  },
  {
   "cell_type": "markdown",
   "metadata": {},
   "source": [
    "Let's start by implementing a naive meanshift in a 2D vector space from scratch. This is not a particularly efficient implementation. Credit goes to Eric Choi for the demo (http://www.chioka.in/meanshift-algorithm-for-the-rest-of-us-python/).\n",
    "\n",
    "First let's start by generating a bunch of datapoints from 4 clusters. This is easy using the in-build ````make_blobs```` function."
   ]
  },
  {
   "cell_type": "code",
   "execution_count": null,
   "metadata": {},
   "outputs": [],
   "source": [
    "original_X, X_shapes = make_blobs(100, 2, centers=4, cluster_std=1.3)\n",
    "print(original_X.shape)\n",
    "plt.plot(original_X[:,0], original_X[:,1], 'bo', markersize = 10)"
   ]
  },
  {
   "cell_type": "markdown",
   "metadata": {},
   "source": [
    "We need a few things to be able to calculate the mean-shift. First, we need a euclidian distance function, a mechanism for determining a neighborhood of points to consider in the gaussian kernel estimator, and the gaussian kernel itself. Finally, our gaussian kernel returns the element-size gaussian kernel density from which we will construct the full population density function."
   ]
  },
  {
   "cell_type": "code",
   "execution_count": null,
   "metadata": {},
   "outputs": [],
   "source": [
    "def euclid_distance(x, xi):\n",
    "    return np.sqrt(np.sum((x - xi)**2))\n",
    "\n",
    "def neighbourhood_points(X, x_centroid, distance = 5):\n",
    "    eligible_X = []\n",
    "    for x in X:\n",
    "        distance_between = euclid_distance(x, x_centroid)\n",
    "        ### print('Evaluating: [%s vs %s] yield dist=%.2f' % (x, x_centroid, distance_between))\n",
    "        if distance_between <= distance:\n",
    "            eligible_X.append(x)\n",
    "    return eligible_X\n",
    "\n",
    "def gaussian_kernel(distance, bandwidth):\n",
    "    val = (1/(bandwidth*math.sqrt(2*math.pi))) * np.exp(-0.5*((distance / bandwidth))**2)\n",
    "    return val"
   ]
  },
  {
   "cell_type": "markdown",
   "metadata": {},
   "source": [
    "Here we have manually specified the distance ```` look_distance````, which is how far to look in space for neighbors, a parameter to our ````neighborhood_points```` function. "
   ]
  },
  {
   "cell_type": "code",
   "execution_count": null,
   "metadata": {},
   "outputs": [],
   "source": [
    "look_distance = 6  # How far to look for neighbours.\n",
    "kernel_bandwidth = 4  # Kernel parameter."
   ]
  },
  {
   "cell_type": "markdown",
   "metadata": {},
   "source": [
    "The loop.\n",
    "\n",
    "1. For each datapoint x ∈ X, find the neighbouring points N(x) of x.\n",
    "2. For each datapoint x ∈ X, calculate the mean shift m(x).\n",
    "3. For each datapoint x ∈ X, update x ← m(x) by computation of the mean-shift vector directly as the weighted average.\n",
    "4. Repeat 1. for n_iterations or until the points are almost not moving or not moving.\n",
    "\n",
    "You can change the n_iterations below to run more iterations of Meanshift."
   ]
  },
  {
   "cell_type": "code",
   "execution_count": null,
   "metadata": {},
   "outputs": [],
   "source": [
    "X = np.copy(original_X)\n",
    "# print('Initial X: ', X)\n",
    "\n",
    "past_X = []\n",
    "n_iterations = 5\n",
    "for it in range(n_iterations):\n",
    "    # print('Iteration [%d]' % (it))    \n",
    "\n",
    "    for i, x in enumerate(X):\n",
    "        ### Step 1. For each datapoint x ∈ X, find the neighbouring points N(x) of x.\n",
    "        neighbours = neighbourhood_points(X, x, look_distance)\n",
    "        # print('[%s] has neighbours [%d]' % (x, len(neighbours)))\n",
    "        \n",
    "        ### Step 2. For each datapoint x ∈ X, calculate the mean shift m(x).\n",
    "        numerator = 0\n",
    "        denominator = 0\n",
    "        for neighbour in neighbours:\n",
    "            distance = euclid_distance(neighbour, x)\n",
    "            weight = gaussian_kernel(distance, kernel_bandwidth)\n",
    "            numerator += (weight * neighbour)\n",
    "            denominator += weight\n",
    "        \n",
    "        new_x = numerator / denominator\n",
    "        \n",
    "        ### Step 3. For each datapoint x ∈ X, update x ← m(x).\n",
    "        X[i] = new_x\n",
    "    \n",
    "    # print('New X: ', X)\n",
    "    past_X.append(np.copy(X))"
   ]
  },
  {
   "cell_type": "markdown",
   "metadata": {},
   "source": []
  },
  {
   "cell_type": "code",
   "execution_count": null,
   "metadata": {},
   "outputs": [],
   "source": [
    "figure = plt.figure(1)\n",
    "figure.set_size_inches((10, 16))\n",
    "plt.subplot(n_iterations + 2, 1, 1)\n",
    "plt.title('Initial state')\n",
    "plt.plot(original_X[:,0], original_X[:,1], 'bo')\n",
    "plt.plot(original_X[:,0], original_X[:,1], 'ro')\n",
    "\n",
    "for i in range(n_iterations):\n",
    "    figure_index = i + 2\n",
    "    plt.subplot(n_iterations + 2, 1, figure_index)\n",
    "    plt.title('Iteration: %d' % (figure_index - 1))\n",
    "    plt.plot(original_X[:,0], original_X[:,1], 'bo')\n",
    "    plt.plot(past_X[i][:,0], past_X[i][:,1], 'ro')"
   ]
  },
  {
   "cell_type": "markdown",
   "metadata": {},
   "source": [
    "Now, an image-based example using sklearn. Let's make it somewhat medically-relevant and basically simple to understand the result."
   ]
  },
  {
   "cell_type": "code",
   "execution_count": null,
   "metadata": {},
   "outputs": [],
   "source": [
    "from PIL import Image\n",
    "from itertools import cycle\n",
    "\n",
    "image = Image.open('Spine.jpg')\n",
    "image = np.array(image)\n",
    "original_shape = image.shape\n",
    "print(original_shape)\n",
    "\n",
    "# Flatted image to RBG channels\n",
    "X = np.reshape(image, [-1,3])\n",
    "print(X.shape)\n",
    "\n",
    "plt.imshow(image)"
   ]
  },
  {
   "cell_type": "markdown",
   "metadata": {},
   "source": [
    "Scikit-learn contains its own bandwidth estimator, let's use it."
   ]
  },
  {
   "cell_type": "code",
   "execution_count": null,
   "metadata": {},
   "outputs": [],
   "source": [
    "bandwidth = estimate_bandwidth(X, quantile=0.5, n_samples=100)\n",
    "print(bandwidth)"
   ]
  },
  {
   "cell_type": "markdown",
   "metadata": {},
   "source": [
    "Now let's run sklearn's mean-shift implementation, which is easily invoked, and let's check how many clusters we get and whether that makes intuitive sense to us."
   ]
  },
  {
   "cell_type": "code",
   "execution_count": null,
   "metadata": {},
   "outputs": [],
   "source": [
    "ms = MeanShift(bandwidth=bandwidth, bin_seeding=True)\n",
    "ms.fit(X)\n",
    "\n",
    "labels = ms.labels_\n",
    "print(labels.shape)\n",
    "cluster_centers = ms.cluster_centers_\n",
    "print(cluster_centers.shape)\n",
    "\n",
    "labels_unique = np.unique(labels)\n",
    "n_clusters_ = len(labels_unique)\n",
    "\n",
    "print(\"number of estimated clusters : %d\" % n_clusters_)"
   ]
  },
  {
   "cell_type": "markdown",
   "metadata": {},
   "source": [
    "Now let's recover the original shape of the image (ignore the RBG channels, they're not relevant anymore, just need the 2D information)."
   ]
  },
  {
   "cell_type": "code",
   "execution_count": null,
   "metadata": {},
   "outputs": [],
   "source": [
    "segmented_image = np.reshape(labels, original_shape[:2])\n",
    "plt.figure(2)\n",
    "plt.subplot(1, 2, 1)\n",
    "plt.imshow(image)\n",
    "plt.axis('off')\n",
    "plt.subplot(1, 2, 2)\n",
    "plt.imshow(segmented_image)\n",
    "plt.axis('off')"
   ]
  },
  {
   "cell_type": "code",
   "execution_count": null,
   "metadata": {},
   "outputs": [],
   "source": [
    "from sklearn.cluster import MeanShift, estimate_bandwidth\n",
    "from sklearn.datasets.samples_generator import make_blobs"
   ]
  },
  {
   "cell_type": "markdown",
   "metadata": {},
   "source": [
    "Now, to a medical example. Begin by importing SimpleITK and creating an ImageSeriesReader. We will use this SimpleITK function to get a series of DICOM images and select from them which to use during our clustering segmentation pipeline."
   ]
  },
  {
   "cell_type": "code",
   "execution_count": null,
   "metadata": {},
   "outputs": [],
   "source": [
    "import SimpleITK as sitk\n",
    "\n",
    "reader = sitk.ImageSeriesReader()\n",
    "seriesIDs = reader.GetGDCMSeriesIDs(\"DICOM\")\n",
    "numSeries = len(seriesIDs)\n",
    "\n",
    "dicomSeriesID = 0\n",
    "dicomNames = reader.GetGDCMSeriesFileNames(\"DICOM\", seriesIDs[dicomSeriesID])\n",
    "reader.SetFileNames(dicomNames)\n",
    "try:\n",
    "    image = reader.Execute()\n",
    "except RunTimeError:\n",
    "    print (\"--> Something went wrong reading DICOM names!\")\n",
    "    "
   ]
  },
  {
   "cell_type": "markdown",
   "metadata": {},
   "source": [
    "Write out a more convenient format for research, namely, the compressed NIFTI."
   ]
  },
  {
   "cell_type": "code",
   "execution_count": null,
   "metadata": {},
   "outputs": [],
   "source": [
    "sitk.WriteImage(image, \"DICOM.nii.gz\")"
   ]
  },
  {
   "cell_type": "code",
   "execution_count": null,
   "metadata": {},
   "outputs": [],
   "source": [
    "imageSlice = 45\n",
    "numpyImage = sitk.GetArrayFromImage(image)\n",
    "my2DImage = numpyImage[imageSlice]\n",
    "\n",
    "imgplot = plt.imshow(my2DImage, cmap='gray')"
   ]
  },
  {
   "cell_type": "markdown",
   "metadata": {},
   "source": [
    "We can use this later if we just want to start with the DICOM data but in our compressed NIFTI format. NIFTI also has the advantage of being naturally de-identified, however, the DICOM data I have given you in this tutorial is already de-identified for obvious reasons.\n",
    "\n",
    "Now we do some simple conversion. First, we will apply a total variation denoising procedure to the images, which is available in the skimage package, which removes some random noise. In this case we are also grabbing the numpy array representation of the imageSecondly, we scale the data and convert it to 8 bit in preparation for using our pymeanshift library, which works only with 8 bit image data."
   ]
  },
  {
   "cell_type": "code",
   "execution_count": null,
   "metadata": {},
   "outputs": [],
   "source": [
    "from skimage.restoration import denoise_tv_chambolle\n",
    "import cv2\n",
    "import numpy as np\n",
    "\n",
    "numpyImage = denoise_tv_chambolle(numpyImage, weight=0.001)\n",
    "\n",
    "alpha = 255.0 / np.amax(numpyImage)\n",
    "beta = np.amin(numpyImage)\n",
    "\n",
    "numpyImage = cv2.convertScaleAbs(numpyImage, alpha=alpha, beta=beta)\n",
    "\n",
    "myImageFinal = numpyImage[imageSlice]\n",
    "imgplot = plt.imshow(myImageFinal, cmap='gray')"
   ]
  },
  {
   "cell_type": "markdown",
   "metadata": {},
   "source": [
    "For the purposes of this demonstration our goal is to perform the mean shift segmentation on a single axial slide of the MRI which contains a significant amount of tumor. In this demo I have pre-configured the axial slide value corresponding to this 2D slice of the image, however, one could imagine a straightforward 3D version of this code (but beware! this is computationally expensive!) or an interactive image picker writtein in, for example, matplotlib."
   ]
  },
  {
   "cell_type": "markdown",
   "metadata": {},
   "source": [
    "Two significant configurable options exist within the construction of the mean shift segmenter. The first is the spatial radius. This is the radius around each seed point which will be considered for the centroid calculation. The second is the range radius, which is defined as the range in the image density that will be considered to be part of the centroid calculation at each iteration and for each seed point. Lastly, there is a minimum density set so that no pixels below a certain threshold are considered in the calculation. This has the effect of removing the background. I have pre-populated some values for you here, however, feel free to play around with this."
   ]
  },
  {
   "cell_type": "code",
   "execution_count": null,
   "metadata": {},
   "outputs": [],
   "source": [
    "spatialRadius = 2\n",
    "rangeRadius = 5\n",
    "minDensity = 100\n",
    "\n",
    "import pymeanshift as pms\n",
    "from PIL import Image\n",
    "\n",
    "mySegmenter = pms.Segmenter()\n",
    "mySegmenter.min_density = minDensity\n",
    "mySegmenter.spatial_radius = spatialRadius\n",
    "mySegmenter.range_radius = rangeRadius\n",
    "\n",
    "segmentedImage, labelImage, numRegions = mySegmenter(myImageFinal)\n",
    "print (\"--> Generated\", numRegions, \"regions\")\n",
    "print (\"--> Label of the intratumoral region appears to be\", labelImage[100][150])\n",
    "tumorLabelIndex = labelImage[100][150]\n",
    "imgplot = plt.imshow(labelImage, cmap='gray')"
   ]
  },
  {
   "cell_type": "markdown",
   "metadata": {},
   "source": [
    "Now that we have successful segmented our tumor, let's go ahead and generate a simple mask on the image which is 1 in the tumor and 0 everywhere else. When can perhaps most simply do this by reshaping the image into a one-dimensional array and then simply converting it back. "
   ]
  },
  {
   "cell_type": "code",
   "execution_count": null,
   "metadata": {},
   "outputs": [],
   "source": [
    "imageShape = labelImage.shape\n",
    "myLabelImage = np.ravel(labelImage)\n",
    "myLabelImageSegmentation = np.zeros(myLabelImage.shape)\n",
    "\n",
    "for i in range(0, len(myLabelImage)):\n",
    "    if myLabelImage[i] == tumorLabelIndex:\n",
    "        myLabelImageSegmentation[i] = 1\n",
    "        \n",
    "myLabelImageSegmentation = np.reshape(myLabelImageSegmentation, (-1, imageShape[1]))\n",
    "imgplot = plt.imshow(myLabelImageSegmentation, cmap='gray')"
   ]
  },
  {
   "cell_type": "markdown",
   "metadata": {},
   "source": [
    "Congratulations on your segmented tumor! Now, just do this in 3D, or find a way to concatenate the results between successive mean-shift segmentation in each relevant axial slice along the tumor itself."
   ]
  }
 ],
 "metadata": {
  "kernelspec": {
   "display_name": "Python 3",
   "language": "python",
   "name": "python3"
  },
  "language_info": {
   "codemirror_mode": {
    "name": "ipython",
    "version": 3
   },
   "file_extension": ".py",
   "mimetype": "text/x-python",
   "name": "python",
   "nbconvert_exporter": "python",
   "pygments_lexer": "ipython3",
   "version": "3.7.3"
  }
 },
 "nbformat": 4,
 "nbformat_minor": 4
}
